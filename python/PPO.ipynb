{
 "cells": [
  {
   "cell_type": "markdown",
   "metadata": {},
   "source": [
    "# Unity ML Agents\n",
    "## Proximal Policy Optimization (PPO)\n",
    "Contains an implementation of PPO as described [here](https://arxiv.org/abs/1707.06347)."
   ]
  },
  {
   "cell_type": "code",
   "execution_count": 1,
   "metadata": {
    "collapsed": true
   },
   "outputs": [],
   "source": [
    "import numpy as np\n",
    "import os\n",
    "import tensorflow as tf\n",
    "\n",
    "from ppo.history import *\n",
    "from ppo.models import *\n",
    "from ppo.trainer import Trainer\n",
    "from unityagents import *"
   ]
  },
  {
   "cell_type": "markdown",
   "metadata": {},
   "source": [
    "### Hyperparameters"
   ]
  },
  {
   "cell_type": "code",
   "execution_count": 2,
   "metadata": {
    "collapsed": true
   },
   "outputs": [],
   "source": [
    "### General parameters\n",
    "max_steps = 5e5 # Set maximum number of steps to run environment.\n",
    "run_path = \"fetcher8.2\" # The sub-directory name for model and summary statistics\n",
    "load_model = False # Whether to load a saved model.\n",
    "train_model = True # Whether to train the model.\n",
    "summary_freq = 10000 # Frequency at which to save training statistics.\n",
    "save_freq = 50000 # Frequency at which to save model.\n",
    "env_name = \"fetcher8\" # Name of the training environment file.\n",
    "curriculum_file = None\n",
    "lesson = 0 # Start learning from this lesson\n",
    "\n",
    "### Algorithm-specific parameters for tuning\n",
    "gamma = 0.99 # Reward discount rate.\n",
    "lambd = 0.95 # Lambda parameter for GAE.\n",
    "time_horizon = 2048 # How many steps to collect per agent before adding to buffer.\n",
    "beta = 1e-3 # Strength of entropy regularization\n",
    "num_epoch = 5 # Number of gradient descent steps per batch of experiences.\n",
    "num_layers = 2 # Number of hidden layers between state/observation encoding and value/policy layers.\n",
    "epsilon = 0.2 # Acceptable threshold around ratio of old and new policy probabilities.\n",
    "buffer_size = 2048 # How large the experience buffer should be before gradient descent.\n",
    "learning_rate = 3e-4 # Model learning rate.\n",
    "hidden_units = 64 # Number of units in hidden layer.\n",
    "batch_size = 64 # How many experiences per gradient descent update step.\n",
    "normalize = False\n",
    "\n",
    "### Logging dictionary for hyperparameters\n",
    "hyperparameter_dict = {'max_steps':max_steps, 'run_path':run_path, 'env_name':env_name,\n",
    "    'curriculum_file':curriculum_file, 'gamma':gamma, 'lambd':lambd, 'time_horizon':time_horizon,\n",
    "    'beta':beta, 'num_epoch':num_epoch, 'epsilon':epsilon, 'buffe_size':buffer_size,\n",
    "    'leaning_rate':learning_rate, 'hidden_units':hidden_units, 'batch_size':batch_size}"
   ]
  },
  {
   "cell_type": "markdown",
   "metadata": {},
   "source": [
    "### Load the environment"
   ]
  },
  {
   "cell_type": "code",
   "execution_count": 3,
   "metadata": {},
   "outputs": [
    {
     "name": "stderr",
     "output_type": "stream",
     "text": [
      "INFO:unityagents:\n",
      "'Academy' started successfully!\n"
     ]
    },
    {
     "name": "stdout",
     "output_type": "stream",
     "text": [
      "Unity Academy name: Academy\n",
      "        Number of brains: 1\n",
      "        Reset Parameters :\n",
      "\t\ty_variation -> 0.0\n",
      "Unity brain name: Brain\n",
      "        Number of observations (per agent): 0\n",
      "        State space type: continuous\n",
      "        State space size (per agent): 11\n",
      "        Action space type: discrete\n",
      "        Action space size (per agent): 5\n",
      "        Memory space size (per agent): 0\n",
      "        Action descriptions: , , , , \n"
     ]
    }
   ],
   "source": [
    "env = UnityEnvironment(file_name=env_name, curriculum=curriculum_file, lesson=lesson)\n",
    "print(str(env))\n",
    "brain_name = env.external_brain_names[0]"
   ]
  },
  {
   "cell_type": "markdown",
   "metadata": {},
   "source": [
    "### Train the Agent(s)"
   ]
  },
  {
   "cell_type": "code",
   "execution_count": 4,
   "metadata": {
    "scrolled": true
   },
   "outputs": [
    {
     "name": "stdout",
     "output_type": "stream",
     "text": [
      "Step: 10000. Mean Reward: -0.29838707378681223. Std of Reward: 0.9900902443078364.\n",
      "Step: 20000. Mean Reward: -0.08120633068065795. Std of Reward: 0.9310179336583526.\n",
      "Step: 30000. Mean Reward: 0.167177629849699. Std of Reward: 0.8960459453502292.\n",
      "Step: 40000. Mean Reward: 0.27754293186909845. Std of Reward: 0.9143279192756223.\n",
      "Step: 50000. Mean Reward: 0.45405104740610436. Std of Reward: 0.821732517533889.\n",
      "Saved Model\n",
      "Step: 60000. Mean Reward: 0.6649946703306193. Std of Reward: 0.5656014764599046.\n",
      "Step: 70000. Mean Reward: 0.7388805321847927. Std of Reward: 0.6412770576937381.\n",
      "Step: 80000. Mean Reward: 0.628130770467178. Std of Reward: 1.2599212153161075.\n",
      "Step: 90000. Mean Reward: 0.637799546300661. Std of Reward: 1.423230849271607.\n",
      "Step: 100000. Mean Reward: 0.7900700320891452. Std of Reward: 1.0120344254987386.\n",
      "Saved Model\n",
      "Step: 110000. Mean Reward: 0.5892495091394809. Std of Reward: 1.8244561981871417.\n",
      "Step: 120000. Mean Reward: -0.4049863297438902. Std of Reward: 3.3955844616687796.\n",
      "Step: 130000. Mean Reward: -0.595558974183286. Std of Reward: 3.6277608150663427.\n",
      "Step: 140000. Mean Reward: 0.177963652536273. Std of Reward: 2.660217863211411.\n",
      "Step: 150000. Mean Reward: -0.5761965506463351. Std of Reward: 3.5998743282036525.\n",
      "Saved Model\n",
      "Step: 160000. Mean Reward: -0.6591813842337414. Std of Reward: 3.654953012809877.\n",
      "Step: 170000. Mean Reward: 0.38524437069374706. Std of Reward: 2.1090234762084528.\n",
      "Step: 180000. Mean Reward: 0.5147046687670168. Std of Reward: 1.5390664524688502.\n",
      "Step: 190000. Mean Reward: 0.14669277404896083. Std of Reward: 2.5868218159889245.\n",
      "Step: 200000. Mean Reward: -0.6878952243026685. Std of Reward: 3.777274414710468.\n",
      "Saved Model\n",
      "Step: 210000. Mean Reward: -1.4714974147423647. Std of Reward: 4.2845588713023925.\n",
      "Step: 220000. Mean Reward: -1.1916247740679557. Std of Reward: 4.119233114190531.\n",
      "Step: 230000. Mean Reward: -1.078264111997384. Std of Reward: 4.020684174300901.\n",
      "Step: 240000. Mean Reward: -1.390125743142745. Std of Reward: 4.080813242112409.\n",
      "Step: 250000. Mean Reward: -1.515221042061212. Std of Reward: 4.249624319631198.\n",
      "Saved Model\n",
      "Step: 260000. Mean Reward: -1.404711770460074. Std of Reward: 4.214300716116036.\n",
      "Step: 270000. Mean Reward: -1.2538066945648254. Std of Reward: 3.9844993319334243.\n",
      "Step: 280000. Mean Reward: -1.9716244195450396. Std of Reward: 4.378531261455133.\n",
      "Step: 290000. Mean Reward: -1.3443560790513391. Std of Reward: 4.027700318725836.\n",
      "Step: 300000. Mean Reward: -1.0205564591593876. Std of Reward: 3.644131550017399.\n",
      "Saved Model\n",
      "Step: 310000. Mean Reward: -1.9377206865223833. Std of Reward: 4.378255345964834.\n",
      "Step: 320000. Mean Reward: -2.4566666063749127. Std of Reward: 4.413886346560592.\n",
      "Step: 330000. Mean Reward: -0.8565559904033094. Std of Reward: 3.18649688502893.\n",
      "Step: 340000. Mean Reward: -0.46949638600508087. Std of Reward: 2.6378885129703806.\n",
      "Step: 350000. Mean Reward: -0.9636771026414072. Std of Reward: 3.316708063251265.\n",
      "Saved Model\n",
      "Step: 360000. Mean Reward: -1.1408450404890407. Std of Reward: 3.3799399549468103.\n",
      "Step: 370000. Mean Reward: -1.2862499659757454. Std of Reward: 3.598327477731469.\n",
      "Step: 380000. Mean Reward: -0.5777304732366234. Std of Reward: 3.1506754489379514.\n",
      "Step: 390000. Mean Reward: -1.3145744320916686. Std of Reward: 3.688634468336961.\n",
      "Step: 400000. Mean Reward: -2.3329371599430395. Std of Reward: 4.524103128570953.\n",
      "Saved Model\n",
      "Step: 410000. Mean Reward: -2.4959797343784813. Std of Reward: 4.636990501298762.\n",
      "Step: 420000. Mean Reward: -3.1389072889599268. Std of Reward: 4.640542167308258.\n",
      "Step: 430000. Mean Reward: -1.9245433288596605. Std of Reward: 4.245928515103582.\n",
      "Step: 440000. Mean Reward: -0.22828778120025803. Std of Reward: 2.559779647630949.\n",
      "Step: 450000. Mean Reward: 0.060018289306454725. Std of Reward: 1.838686552141621.\n",
      "Saved Model\n",
      "Step: 460000. Mean Reward: 0.060048430815303006. Std of Reward: 1.3990681498441306.\n",
      "Step: 470000. Mean Reward: -0.6011241033969914. Std of Reward: 2.716500161663447.\n",
      "Step: 480000. Mean Reward: -0.24076766393551924. Std of Reward: 2.3438377383962.\n",
      "Step: 490000. Mean Reward: 0.07909651633038413. Std of Reward: 1.8012668023334713.\n",
      "Step: 500000. Mean Reward: 0.13206897205766122. Std of Reward: 1.7185904500124412.\n",
      "Saved Model\n",
      "Saved Model\n",
      "INFO:tensorflow:Restoring parameters from ./models/fetcher8.2\\model-500001.cptk\n"
     ]
    },
    {
     "name": "stderr",
     "output_type": "stream",
     "text": [
      "INFO:tensorflow:Restoring parameters from ./models/fetcher8.2\\model-500001.cptk\n"
     ]
    },
    {
     "name": "stdout",
     "output_type": "stream",
     "text": [
      "INFO:tensorflow:Froze 4 variables.\n"
     ]
    },
    {
     "name": "stderr",
     "output_type": "stream",
     "text": [
      "INFO:tensorflow:Froze 4 variables.\n"
     ]
    },
    {
     "name": "stdout",
     "output_type": "stream",
     "text": [
      "Converted 4 variables to const ops.\n"
     ]
    }
   ],
   "source": [
    "tf.reset_default_graph()\n",
    "\n",
    "if curriculum_file == \"None\":\n",
    "    curriculum_file = None\n",
    "\n",
    "\n",
    "def get_progress():\n",
    "    if curriculum_file is not None:\n",
    "        if env._curriculum.measure_type == \"progress\":\n",
    "            return steps / max_steps\n",
    "        elif env._curriculum.measure_type == \"reward\":\n",
    "            return last_reward\n",
    "        else:\n",
    "            return None\n",
    "    else:\n",
    "        return None\n",
    "\n",
    "# Create the Tensorflow model graph\n",
    "ppo_model = create_agent_model(env, lr=learning_rate,\n",
    "                               h_size=hidden_units, epsilon=epsilon,\n",
    "                               beta=beta, max_step=max_steps, \n",
    "                               normalize=normalize, num_layers=num_layers)\n",
    "\n",
    "is_continuous = (env.brains[brain_name].action_space_type == \"continuous\")\n",
    "use_observations = (env.brains[brain_name].number_observations > 0)\n",
    "use_states = (env.brains[brain_name].state_space_size > 0)\n",
    "\n",
    "model_path = './models/{}'.format(run_path)\n",
    "summary_path = './summaries/{}'.format(run_path)\n",
    "\n",
    "if not os.path.exists(model_path):\n",
    "    os.makedirs(model_path)\n",
    "\n",
    "if not os.path.exists(summary_path):\n",
    "    os.makedirs(summary_path)\n",
    "\n",
    "init = tf.global_variables_initializer()\n",
    "saver = tf.train.Saver()\n",
    "\n",
    "with tf.Session() as sess:\n",
    "    # Instantiate model parameters\n",
    "    if load_model:\n",
    "        print('Loading Model...')\n",
    "        ckpt = tf.train.get_checkpoint_state(model_path)\n",
    "        saver.restore(sess, ckpt.model_checkpoint_path)\n",
    "    else:\n",
    "        sess.run(init)\n",
    "    steps, last_reward = sess.run([ppo_model.global_step, ppo_model.last_reward])    \n",
    "    summary_writer = tf.summary.FileWriter(summary_path)\n",
    "    info = env.reset(train_mode=train_model, progress=get_progress())[brain_name]\n",
    "    trainer = Trainer(ppo_model, sess, info, is_continuous, use_observations, use_states, train_model)\n",
    "    if train_model:\n",
    "        trainer.write_text(summary_writer, 'Hyperparameters', hyperparameter_dict, steps)\n",
    "    while steps <= max_steps:\n",
    "        if env.global_done:\n",
    "            info = env.reset(train_mode=train_model, progress=get_progress())[brain_name]\n",
    "        # Decide and take an action\n",
    "        new_info = trainer.take_action(info, env, brain_name, steps, normalize)\n",
    "        info = new_info\n",
    "        trainer.process_experiences(info, time_horizon, gamma, lambd)\n",
    "        if len(trainer.training_buffer['actions']) > buffer_size and train_model:\n",
    "            # Perform gradient descent with experience buffer\n",
    "            trainer.update_model(batch_size, num_epoch)\n",
    "        if steps % summary_freq == 0 and steps != 0 and train_model:\n",
    "            # Write training statistics to tensorboard.\n",
    "            trainer.write_summary(summary_writer, steps, env._curriculum.lesson_number)\n",
    "        if steps % save_freq == 0 and steps != 0 and train_model:\n",
    "            # Save Tensorflow model\n",
    "            save_model(sess, model_path=model_path, steps=steps, saver=saver)\n",
    "        steps += 1\n",
    "        sess.run(ppo_model.increment_step)\n",
    "        if len(trainer.stats['cumulative_reward']) > 0:\n",
    "            mean_reward = np.mean(trainer.stats['cumulative_reward'])\n",
    "            sess.run(ppo_model.update_reward, feed_dict={ppo_model.new_reward: mean_reward})\n",
    "            last_reward = sess.run(ppo_model.last_reward)\n",
    "    # Final save Tensorflow model\n",
    "    if steps != 0 and train_model:\n",
    "        save_model(sess, model_path=model_path, steps=steps, saver=saver)\n",
    "env.close()\n",
    "export_graph(model_path, env_name)"
   ]
  },
  {
   "cell_type": "markdown",
   "metadata": {},
   "source": [
    "### Export the trained Tensorflow graph\n",
    "Once the model has been trained and saved, we can export it as a .bytes file which Unity can embed."
   ]
  },
  {
   "cell_type": "code",
   "execution_count": null,
   "metadata": {
    "collapsed": true
   },
   "outputs": [],
   "source": [
    "export_graph(model_path, env_name)"
   ]
  }
 ],
 "metadata": {
  "anaconda-cloud": {},
  "kernelspec": {
   "display_name": "Python 3",
   "language": "python",
   "name": "python3"
  },
  "language_info": {
   "codemirror_mode": {
    "name": "ipython",
    "version": 3
   },
   "file_extension": ".py",
   "mimetype": "text/x-python",
   "name": "python",
   "nbconvert_exporter": "python",
   "pygments_lexer": "ipython3",
   "version": "3.6.3"
  }
 },
 "nbformat": 4,
 "nbformat_minor": 1
}
