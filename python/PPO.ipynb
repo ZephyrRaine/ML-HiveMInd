{
 "cells": [
  {
   "cell_type": "markdown",
   "metadata": {},
   "source": [
    "# Unity ML Agents\n",
    "## Proximal Policy Optimization (PPO)\n",
    "Contains an implementation of PPO as described [here](https://arxiv.org/abs/1707.06347)."
   ]
  },
  {
   "cell_type": "code",
   "execution_count": 1,
   "metadata": {},
   "outputs": [],
   "source": [
    "import numpy as np\n",
    "import os\n",
    "import tensorflow as tf\n",
    "\n",
    "from ppo.history import *\n",
    "from ppo.models import *\n",
    "from ppo.trainer import Trainer\n",
    "from unityagents import *"
   ]
  },
  {
   "cell_type": "markdown",
   "metadata": {},
   "source": [
    "### Hyperparameters"
   ]
  },
  {
   "cell_type": "code",
   "execution_count": 2,
   "metadata": {},
   "outputs": [],
   "source": [
    "### General parameters\n",
    "max_steps = 5e5 # Set maximum number of steps to run environment.\n",
    "run_path = \"fetcher5\" # The sub-directory name for model and summary statistics\n",
    "load_model = False # Whether to load a saved model.\n",
    "train_model = True # Whether to train the model.\n",
    "summary_freq = 10000 # Frequency at which to save training statistics.\n",
    "save_freq = 50000 # Frequency at which to save model.\n",
    "env_name = \"fetcher5\" # Name of the training environment file.\n",
    "curriculum_file = None\n",
    "lesson = 0 # Start learning from this lesson\n",
    "\n",
    "### Algorithm-specific parameters for tuning\n",
    "gamma = 0.99 # Reward discount rate.\n",
    "lambd = 0.95 # Lambda parameter for GAE.\n",
    "time_horizon = 2048 # How many steps to collect per agent before adding to buffer.\n",
    "beta = 1e-3 # Strength of entropy regularization\n",
    "num_epoch = 5 # Number of gradient descent steps per batch of experiences.\n",
    "num_layers = 2 # Number of hidden layers between state/observation encoding and value/policy layers.\n",
    "epsilon = 0.2 # Acceptable threshold around ratio of old and new policy probabilities.\n",
    "buffer_size = 2048 # How large the experience buffer should be before gradient descent.\n",
    "learning_rate = 3e-4 # Model learning rate.\n",
    "hidden_units = 64 # Number of units in hidden layer.\n",
    "batch_size = 64 # How many experiences per gradient descent update step.\n",
    "normalize = False\n",
    "\n",
    "### Logging dictionary for hyperparameters\n",
    "hyperparameter_dict = {'max_steps':max_steps, 'run_path':run_path, 'env_name':env_name,\n",
    "    'curriculum_file':curriculum_file, 'gamma':gamma, 'lambd':lambd, 'time_horizon':time_horizon,\n",
    "    'beta':beta, 'num_epoch':num_epoch, 'epsilon':epsilon, 'buffe_size':buffer_size,\n",
    "    'leaning_rate':learning_rate, 'hidden_units':hidden_units, 'batch_size':batch_size}"
   ]
  },
  {
   "cell_type": "markdown",
   "metadata": {},
   "source": [
    "### Load the environment"
   ]
  },
  {
   "cell_type": "code",
   "execution_count": 3,
   "metadata": {},
   "outputs": [
    {
     "name": "stderr",
     "output_type": "stream",
     "text": [
      "INFO:unityagents:\n",
      "'Academy' started successfully!\n"
     ]
    },
    {
     "name": "stdout",
     "output_type": "stream",
     "text": [
      "Unity Academy name: Academy\n",
      "        Number of brains: 1\n",
      "        Reset Parameters :\n",
      "\t\ty_variation -> 0.0\n",
      "Unity brain name: Brain\n",
      "        Number of observations (per agent): 0\n",
      "        State space type: continuous\n",
      "        State space size (per agent): 9\n",
      "        Action space type: discrete\n",
      "        Action space size (per agent): 5\n",
      "        Memory space size (per agent): 0\n",
      "        Action descriptions: , , , , \n"
     ]
    }
   ],
   "source": [
    "env = UnityEnvironment(file_name=env_name, curriculum=curriculum_file, lesson=lesson)\n",
    "print(str(env))\n",
    "brain_name = env.external_brain_names[0]"
   ]
  },
  {
   "cell_type": "markdown",
   "metadata": {},
   "source": [
    "### Train the Agent(s)"
   ]
  },
  {
   "cell_type": "code",
   "execution_count": 4,
   "metadata": {
    "scrolled": true
   },
   "outputs": [
    {
     "name": "stdout",
     "output_type": "stream",
     "text": [
      "Step: 10000. Mean Reward: -0.7861855369176447. Std of Reward: 0.9655948376456698.\n",
      "Step: 20000. Mean Reward: -0.39333331162971974. Std of Reward: 0.7285039454045914.\n",
      "Step: 30000. Mean Reward: -0.18436948371138914. Std of Reward: 0.6434638327973139.\n",
      "Step: 40000. Mean Reward: -0.13946266937166898. Std of Reward: 0.709744327216704.\n",
      "Step: 50000. Mean Reward: -0.069153588895794. Std of Reward: 0.6045300985823913.\n",
      "Saved Model\n",
      "Step: 60000. Mean Reward: 0.007855168032695987. Std of Reward: 0.5683604071498239.\n",
      "Step: 70000. Mean Reward: -0.0539935955914636. Std of Reward: 0.6283105412905373.\n",
      "Step: 80000. Mean Reward: 0.18820514052342147. Std of Reward: 0.5042812916155618.\n",
      "Step: 90000. Mean Reward: 0.08255015576743976. Std of Reward: 0.5135472124703535.\n",
      "Step: 100000. Mean Reward: 0.1720186447932946. Std of Reward: 0.5096094769422732.\n",
      "Saved Model\n",
      "Step: 110000. Mean Reward: 0.17088958161077433. Std of Reward: 0.4817377803602702.\n",
      "Step: 120000. Mean Reward: 0.17176812580530193. Std of Reward: 0.5042624675444962.\n",
      "Step: 130000. Mean Reward: 0.10115132691020048. Std of Reward: 0.5505872900642996.\n",
      "Step: 140000. Mean Reward: 0.19088329076884486. Std of Reward: 0.4863160653724137.\n",
      "Step: 150000. Mean Reward: 0.262881852546841. Std of Reward: 0.43465086516179285.\n",
      "Saved Model\n",
      "Step: 160000. Mean Reward: 0.28009464510067217. Std of Reward: 0.41865300034065855.\n",
      "Step: 170000. Mean Reward: 0.32765061121030026. Std of Reward: 0.45559099063688163.\n",
      "Step: 180000. Mean Reward: 0.22993789603991538. Std of Reward: 0.44544136005612944.\n",
      "Step: 190000. Mean Reward: 0.3045846231568318. Std of Reward: 0.4318121660382694.\n",
      "Step: 200000. Mean Reward: 0.20660900483777986. Std of Reward: 0.4688470566414391.\n",
      "Saved Model\n",
      "Step: 210000. Mean Reward: 0.12454546304637348. Std of Reward: 0.4882736438356155.\n",
      "Step: 220000. Mean Reward: 0.13111941056298232. Std of Reward: 0.47443077815043355.\n",
      "Step: 230000. Mean Reward: 0.16832776761996907. Std of Reward: 0.5146683251647637.\n",
      "Step: 240000. Mean Reward: 0.07395189782905415. Std of Reward: 0.49753810953806865.\n",
      "Step: 250000. Mean Reward: 0.10669145764969981. Std of Reward: 0.5158108126485781.\n",
      "Saved Model\n",
      "Step: 260000. Mean Reward: 0.13516729344444203. Std of Reward: 0.4558415408519425.\n",
      "Step: 270000. Mean Reward: 0.14412811936750955. Std of Reward: 0.3905102535927919.\n",
      "Step: 280000. Mean Reward: 0.19919847851292094. Std of Reward: 0.3861224880327689.\n",
      "Step: 290000. Mean Reward: 0.16402299353189168. Std of Reward: 0.38271301707457683.\n",
      "Step: 300000. Mean Reward: 0.22097403228331308. Std of Reward: 0.44853045199775526.\n",
      "Saved Model\n",
      "Step: 310000. Mean Reward: 0.19980545087576143. Std of Reward: 0.3461645877432894.\n",
      "Step: 320000. Mean Reward: 0.336215281943118. Std of Reward: 0.34027243152680875.\n",
      "Step: 330000. Mean Reward: 0.23764912678876468. Std of Reward: 0.3463905333679684.\n",
      "Step: 340000. Mean Reward: 0.2548360684428547. Std of Reward: 0.3316655270061411.\n",
      "Step: 350000. Mean Reward: 0.18678571756130882. Std of Reward: 0.3025375236816204.\n",
      "Saved Model\n",
      "Step: 360000. Mean Reward: 0.24091873106023448. Std of Reward: 0.3099809694763722.\n",
      "Step: 370000. Mean Reward: 0.2767557289437142. Std of Reward: 0.39169401990508534.\n",
      "Step: 380000. Mean Reward: 0.27463504035080216. Std of Reward: 0.3751321564744573.\n",
      "Step: 390000. Mean Reward: 0.2525177339673148. Std of Reward: 0.3270863860808124.\n",
      "Step: 400000. Mean Reward: 0.20255230383550024. Std of Reward: 0.31041167834510924.\n",
      "Saved Model\n",
      "Step: 410000. Mean Reward: 0.2738113232800421. Std of Reward: 0.3320800675579894.\n",
      "Step: 420000. Mean Reward: 0.27670033981001335. Std of Reward: 0.31616156459380834.\n",
      "Step: 430000. Mean Reward: 0.2884063772723613. Std of Reward: 0.3089099362250797.\n",
      "Step: 440000. Mean Reward: 0.34010791647911287. Std of Reward: 0.3198611250115286.\n",
      "Step: 450000. Mean Reward: 0.3563987163173999. Std of Reward: 0.32184539495534603.\n",
      "Saved Model\n",
      "Step: 460000. Mean Reward: 0.40424028522081595. Std of Reward: 0.3062177310069056.\n",
      "Step: 470000. Mean Reward: 0.4429801353160909. Std of Reward: 0.3256919165421168.\n",
      "Step: 480000. Mean Reward: 0.38781045962222455. Std of Reward: 0.3288563715971179.\n",
      "Step: 490000. Mean Reward: 0.5156591664041449. Std of Reward: 0.3073098706068924.\n",
      "Step: 500000. Mean Reward: 0.4806389800323465. Std of Reward: 0.32117631300395016.\n",
      "Saved Model\n",
      "Saved Model\n",
      "INFO:tensorflow:Restoring parameters from ./models/fetcher5\\model-500001.cptk\n"
     ]
    },
    {
     "name": "stderr",
     "output_type": "stream",
     "text": [
      "INFO:tensorflow:Restoring parameters from ./models/fetcher5\\model-500001.cptk\n"
     ]
    },
    {
     "name": "stdout",
     "output_type": "stream",
     "text": [
      "INFO:tensorflow:Froze 4 variables.\n"
     ]
    },
    {
     "name": "stderr",
     "output_type": "stream",
     "text": [
      "INFO:tensorflow:Froze 4 variables.\n"
     ]
    },
    {
     "name": "stdout",
     "output_type": "stream",
     "text": [
      "Converted 4 variables to const ops.\n",
      "20 ops in the final graph.\n"
     ]
    }
   ],
   "source": [
    "tf.reset_default_graph()\n",
    "\n",
    "if curriculum_file == \"None\":\n",
    "    curriculum_file = None\n",
    "\n",
    "\n",
    "def get_progress():\n",
    "    if curriculum_file is not None:\n",
    "        if env._curriculum.measure_type == \"progress\":\n",
    "            return steps / max_steps\n",
    "        elif env._curriculum.measure_type == \"reward\":\n",
    "            return last_reward\n",
    "        else:\n",
    "            return None\n",
    "    else:\n",
    "        return None\n",
    "\n",
    "# Create the Tensorflow model graph\n",
    "ppo_model = create_agent_model(env, lr=learning_rate,\n",
    "                               h_size=hidden_units, epsilon=epsilon,\n",
    "                               beta=beta, max_step=max_steps, \n",
    "                               normalize=normalize, num_layers=num_layers)\n",
    "\n",
    "is_continuous = (env.brains[brain_name].action_space_type == \"continuous\")\n",
    "use_observations = (env.brains[brain_name].number_observations > 0)\n",
    "use_states = (env.brains[brain_name].state_space_size > 0)\n",
    "\n",
    "model_path = './models/{}'.format(run_path)\n",
    "summary_path = './summaries/{}'.format(run_path)\n",
    "\n",
    "if not os.path.exists(model_path):\n",
    "    os.makedirs(model_path)\n",
    "\n",
    "if not os.path.exists(summary_path):\n",
    "    os.makedirs(summary_path)\n",
    "\n",
    "init = tf.global_variables_initializer()\n",
    "saver = tf.train.Saver()\n",
    "\n",
    "with tf.Session() as sess:\n",
    "    # Instantiate model parameters\n",
    "    if load_model:\n",
    "        print('Loading Model...')\n",
    "        ckpt = tf.train.get_checkpoint_state(model_path)\n",
    "        saver.restore(sess, ckpt.model_checkpoint_path)\n",
    "    else:\n",
    "        sess.run(init)\n",
    "    steps, last_reward = sess.run([ppo_model.global_step, ppo_model.last_reward])    \n",
    "    summary_writer = tf.summary.FileWriter(summary_path)\n",
    "    info = env.reset(train_mode=train_model, progress=get_progress())[brain_name]\n",
    "    trainer = Trainer(ppo_model, sess, info, is_continuous, use_observations, use_states, train_model)\n",
    "    if train_model:\n",
    "        trainer.write_text(summary_writer, 'Hyperparameters', hyperparameter_dict, steps)\n",
    "    while steps <= max_steps:\n",
    "        if env.global_done:\n",
    "            info = env.reset(train_mode=train_model, progress=get_progress())[brain_name]\n",
    "        # Decide and take an action\n",
    "        new_info = trainer.take_action(info, env, brain_name, steps, normalize)\n",
    "        info = new_info\n",
    "        trainer.process_experiences(info, time_horizon, gamma, lambd)\n",
    "        if len(trainer.training_buffer['actions']) > buffer_size and train_model:\n",
    "            # Perform gradient descent with experience buffer\n",
    "            trainer.update_model(batch_size, num_epoch)\n",
    "        if steps % summary_freq == 0 and steps != 0 and train_model:\n",
    "            # Write training statistics to tensorboard.\n",
    "            trainer.write_summary(summary_writer, steps, env._curriculum.lesson_number)\n",
    "        if steps % save_freq == 0 and steps != 0 and train_model:\n",
    "            # Save Tensorflow model\n",
    "            save_model(sess, model_path=model_path, steps=steps, saver=saver)\n",
    "        steps += 1\n",
    "        sess.run(ppo_model.increment_step)\n",
    "        if len(trainer.stats['cumulative_reward']) > 0:\n",
    "            mean_reward = np.mean(trainer.stats['cumulative_reward'])\n",
    "            sess.run(ppo_model.update_reward, feed_dict={ppo_model.new_reward: mean_reward})\n",
    "            last_reward = sess.run(ppo_model.last_reward)\n",
    "    # Final save Tensorflow model\n",
    "    if steps != 0 and train_model:\n",
    "        save_model(sess, model_path=model_path, steps=steps, saver=saver)\n",
    "env.close()\n",
    "export_graph(model_path, env_name)"
   ]
  },
  {
   "cell_type": "markdown",
   "metadata": {},
   "source": [
    "### Export the trained Tensorflow graph\n",
    "Once the model has been trained and saved, we can export it as a .bytes file which Unity can embed."
   ]
  },
  {
   "cell_type": "code",
   "execution_count": null,
   "metadata": {
    "collapsed": true
   },
   "outputs": [],
   "source": [
    "export_graph(model_path, env_name)"
   ]
  }
 ],
 "metadata": {
  "anaconda-cloud": {},
  "kernelspec": {
   "display_name": "Python 3",
   "language": "python",
   "name": "python3"
  },
  "language_info": {
   "codemirror_mode": {
    "name": "ipython",
    "version": 3
   },
   "file_extension": ".py",
   "mimetype": "text/x-python",
   "name": "python",
   "nbconvert_exporter": "python",
   "pygments_lexer": "ipython3",
   "version": "3.5.2"
  }
 },
 "nbformat": 4,
 "nbformat_minor": 1
}
