{
 "cells": [
  {
   "cell_type": "markdown",
   "metadata": {},
   "source": [
    "# Unity ML Agents\n",
    "## Proximal Policy Optimization (PPO)\n",
    "Contains an implementation of PPO as described [here](https://arxiv.org/abs/1707.06347)."
   ]
  },
  {
   "cell_type": "code",
   "execution_count": 1,
   "metadata": {},
   "outputs": [],
   "source": [
    "import numpy as np\n",
    "import os\n",
    "import tensorflow as tf\n",
    "\n",
    "from ppo.history import *\n",
    "from ppo.models import *\n",
    "from ppo.trainer import Trainer\n",
    "from unityagents import *"
   ]
  },
  {
   "cell_type": "markdown",
   "metadata": {},
   "source": [
    "### Hyperparameters"
   ]
  },
  {
   "cell_type": "code",
   "execution_count": 2,
   "metadata": {},
   "outputs": [],
   "source": [
    "### General parameters\n",
    "max_steps = 5e5 # Set maximum number of steps to run environment.\n",
    "run_path = \"fetcher14\" # The sub-directory name for model and summary statistics\n",
    "load_model = False # Whether to load a saved model.\n",
    "train_model = True # Whether to train the model.\n",
    "summary_freq = 10000 # Frequency at which to save training statistics.\n",
    "save_freq = 50000 # Frequency at which to save model.\n",
    "env_name = \"fetcher14\" # Name of the training environment file.\n",
    "curriculum_file = None\n",
    "lesson = 0 # Start learning from this lesson\n",
    "\n",
    "### Algorithm-specific parameters for tuning\n",
    "gamma = 0.99 # Reward discount rate.\n",
    "lambd = 0.95 # Lambda parameter for GAE.\n",
    "time_horizon = 2048 # How many steps to collect per agent before adding to buffer.\n",
    "beta = 1e-3 # Strength of entropy regularization\n",
    "num_epoch = 5 # Number of gradient descent steps per batch of experiences.\n",
    "num_layers = 2 # Number of hidden layers between state/observation encoding and value/policy layers.\n",
    "epsilon = 0.2 # Acceptable threshold around ratio of old and new policy probabilities.\n",
    "buffer_size = 2048 # How large the experience buffer should be before gradient descent.\n",
    "learning_rate = 3e-4 # Model learning rate.\n",
    "hidden_units = 64 # Number of units in hidden layer.\n",
    "batch_size = 64 # How many experiences per gradient descent update step.\n",
    "normalize = False\n",
    "\n",
    "### Logging dictionary for hyperparameters\n",
    "hyperparameter_dict = {'max_steps':max_steps, 'run_path':run_path, 'env_name':env_name,\n",
    "    'curriculum_file':curriculum_file, 'gamma':gamma, 'lambd':lambd, 'time_horizon':time_horizon,\n",
    "    'beta':beta, 'num_epoch':num_epoch, 'epsilon':epsilon, 'buffe_size':buffer_size,\n",
    "    'leaning_rate':learning_rate, 'hidden_units':hidden_units, 'batch_size':batch_size}"
   ]
  },
  {
   "cell_type": "markdown",
   "metadata": {},
   "source": [
    "### Load the environment"
   ]
  },
  {
   "cell_type": "code",
   "execution_count": 3,
   "metadata": {},
   "outputs": [
    {
     "name": "stderr",
     "output_type": "stream",
     "text": [
      "INFO:unityagents:\n",
      "'Academy' started successfully!\n"
     ]
    },
    {
     "name": "stdout",
     "output_type": "stream",
     "text": [
      "Unity Academy name: Academy\n",
      "        Number of brains: 1\n",
      "        Reset Parameters :\n",
      "\t\ty_variation -> 0.0\n",
      "Unity brain name: Brain\n",
      "        Number of observations (per agent): 1\n",
      "        State space type: continuous\n",
      "        State space size (per agent): 15\n",
      "        Action space type: discrete\n",
      "        Action space size (per agent): 5\n",
      "        Memory space size (per agent): 0\n",
      "        Action descriptions: , , , , \n"
     ]
    }
   ],
   "source": [
    "env = UnityEnvironment(file_name=env_name, curriculum=curriculum_file, lesson=lesson)\n",
    "print(str(env))\n",
    "brain_name = env.external_brain_names[0]"
   ]
  },
  {
   "cell_type": "markdown",
   "metadata": {},
   "source": [
    "### Train the Agent(s)"
   ]
  },
  {
   "cell_type": "code",
   "execution_count": 4,
   "metadata": {
    "scrolled": true
   },
   "outputs": [
    {
     "name": "stdout",
     "output_type": "stream",
     "text": [
      "Step: 10000. Mean Reward: -6.6238093581937605. Std of Reward: 7.667425970276886.\n",
      "Step: 20000. Mean Reward: -6.033448126745121. Std of Reward: 7.006873947387269.\n",
      "Step: 30000. Mean Reward: -1.6993332771708567. Std of Reward: 3.0780709015076795.\n",
      "Step: 40000. Mean Reward: -0.29943179193122144. Std of Reward: 1.5167386630088042.\n",
      "Step: 50000. Mean Reward: -0.15487177135088506. Std of Reward: 1.0947060540315365.\n",
      "Saved Model\n",
      "Step: 60000. Mean Reward: -0.8064633782089847. Std of Reward: 2.2664263722521603.\n",
      "Step: 70000. Mean Reward: -0.27930552991003627. Std of Reward: 1.4510410977223571.\n",
      "Step: 80000. Mean Reward: 0.1118421227622189. Std of Reward: 0.8361781794732398.\n",
      "Step: 90000. Mean Reward: -0.8272307338909461. Std of Reward: 3.0689704522250496.\n",
      "Step: 100000. Mean Reward: 0.1595833496345828. Std of Reward: 1.135190169196237.\n",
      "Saved Model\n",
      "Step: 110000. Mean Reward: 0.32207208531195514. Std of Reward: 0.9169309347780724.\n",
      "Step: 120000. Mean Reward: 0.4016935593268323. Std of Reward: 0.9789260901860087.\n",
      "Step: 130000. Mean Reward: 0.33024391481970866. Std of Reward: 1.3488024927375846.\n",
      "Step: 140000. Mean Reward: 0.5930000075006059. Std of Reward: 0.8347888374854701.\n",
      "Step: 150000. Mean Reward: 0.2733333471696824. Std of Reward: 2.043392427073241.\n",
      "Saved Model\n",
      "Step: 160000. Mean Reward: 0.7525748546921207. Std of Reward: 0.7250999919266925.\n",
      "Step: 170000. Mean Reward: 0.3745871681993434. Std of Reward: 1.4406678423562502.\n",
      "Step: 180000. Mean Reward: -0.08780699626853068. Std of Reward: 2.5595375836916614.\n",
      "Step: 190000. Mean Reward: 0.6494029914932464. Std of Reward: 0.915690540205085.\n",
      "Step: 200000. Mean Reward: 0.34227587561412104. Std of Reward: 2.552616113851046.\n",
      "Saved Model\n",
      "Step: 210000. Mean Reward: 0.4891463505649349. Std of Reward: 1.9053327865670293.\n",
      "Step: 220000. Mean Reward: 0.6061194089533233. Std of Reward: 1.026268334891912.\n",
      "Step: 230000. Mean Reward: 0.3248484968913324. Std of Reward: 1.7111870786556636.\n",
      "Step: 240000. Mean Reward: 0.24621622823178768. Std of Reward: 1.9108719184330667.\n",
      "Step: 250000. Mean Reward: 0.5918750061537139. Std of Reward: 1.0378145043606926.\n",
      "Saved Model\n",
      "Step: 260000. Mean Reward: 0.6396551771924414. Std of Reward: 0.660801399836955.\n",
      "Step: 270000. Mean Reward: 0.4230578612720917. Std of Reward: 1.6268566143201537.\n",
      "Step: 280000. Mean Reward: 0.7307031295349589. Std of Reward: 0.9992498438388506.\n",
      "Step: 290000. Mean Reward: 0.5723770572727577. Std of Reward: 1.3532129385959513.\n",
      "Step: 300000. Mean Reward: -0.5574073770117981. Std of Reward: 4.002848521678378.\n",
      "Saved Model\n",
      "Step: 310000. Mean Reward: 0.6981355969367896. Std of Reward: 0.66405909324435.\n",
      "Step: 320000. Mean Reward: 0.6689156678965292. Std of Reward: 0.7810265163460877.\n",
      "Step: 330000. Mean Reward: 0.12025642667252284. Std of Reward: 4.654282451935203.\n",
      "Step: 340000. Mean Reward: 0.803309355627933. Std of Reward: 0.5408112496341019.\n",
      "Step: 350000. Mean Reward: 0.5804794599774153. Std of Reward: 1.2632108929007657.\n",
      "Saved Model\n",
      "Step: 360000. Mean Reward: 0.11000001422641142. Std of Reward: 1.982124299839066.\n",
      "Step: 370000. Mean Reward: 0.6331168889951009. Std of Reward: 0.8405737841191365.\n",
      "Step: 380000. Mean Reward: 0.6501754444550004. Std of Reward: 1.1148911961404493.\n",
      "Step: 390000. Mean Reward: -0.388499974925071. Std of Reward: 3.9184297984086527.\n",
      "Step: 400000. Mean Reward: -0.21039997652173043. Std of Reward: 5.287968478426026.\n",
      "Saved Model\n",
      "Step: 410000. Mean Reward: 0.1788571586566312. Std of Reward: 5.143309143011821.\n",
      "Step: 420000. Mean Reward: -0.15719296286503473. Std of Reward: 3.838940175461881.\n",
      "Step: 430000. Mean Reward: 0.556896555462274. Std of Reward: 0.7782433866529189.\n",
      "Step: 440000. Mean Reward: 0.6461290343995055. Std of Reward: 0.6094983477269698.\n",
      "Step: 450000. Mean Reward: 0.6334426252812636. Std of Reward: 0.5590269184270575.\n",
      "Saved Model\n",
      "Step: 460000. Mean Reward: 0.8005882381078075. Std of Reward: 0.6044902526323876.\n",
      "Step: 470000. Mean Reward: 0.5517647137974991. Std of Reward: 2.353704003294501.\n",
      "Step: 480000. Mean Reward: 0.7449600028395653. Std of Reward: 0.6538190783244335.\n",
      "Step: 490000. Mean Reward: 0.342727284709161. Std of Reward: 3.0382572808516763.\n",
      "Step: 500000. Mean Reward: 0.5897368465697295. Std of Reward: 0.6362657730092838.\n",
      "Saved Model\n",
      "Saved Model\n",
      "INFO:tensorflow:Restoring parameters from ./models/fetcher14\\model-500001.cptk\n"
     ]
    },
    {
     "name": "stderr",
     "output_type": "stream",
     "text": [
      "INFO:tensorflow:Restoring parameters from ./models/fetcher14\\model-500001.cptk\n"
     ]
    },
    {
     "name": "stdout",
     "output_type": "stream",
     "text": [
      "INFO:tensorflow:Froze 8 variables.\n"
     ]
    },
    {
     "name": "stderr",
     "output_type": "stream",
     "text": [
      "INFO:tensorflow:Froze 8 variables.\n"
     ]
    },
    {
     "name": "stdout",
     "output_type": "stream",
     "text": [
      "Converted 8 variables to const ops.\n",
      "53 ops in the final graph.\n"
     ]
    }
   ],
   "source": [
    "tf.reset_default_graph()\n",
    "\n",
    "if curriculum_file == \"None\":\n",
    "    curriculum_file = None\n",
    "\n",
    "\n",
    "def get_progress():\n",
    "    if curriculum_file is not None:\n",
    "        if env._curriculum.measure_type == \"progress\":\n",
    "            return steps / max_steps\n",
    "        elif env._curriculum.measure_type == \"reward\":\n",
    "            return last_reward\n",
    "        else:\n",
    "            return None\n",
    "    else:\n",
    "        return None\n",
    "\n",
    "# Create the Tensorflow model graph\n",
    "ppo_model = create_agent_model(env, lr=learning_rate,\n",
    "                               h_size=hidden_units, epsilon=epsilon,\n",
    "                               beta=beta, max_step=max_steps, \n",
    "                               normalize=normalize, num_layers=num_layers)\n",
    "\n",
    "is_continuous = (env.brains[brain_name].action_space_type == \"continuous\")\n",
    "use_observations = (env.brains[brain_name].number_observations > 0)\n",
    "use_states = (env.brains[brain_name].state_space_size > 0)\n",
    "\n",
    "model_path = './models/{}'.format(run_path)\n",
    "summary_path = './summaries/{}'.format(run_path)\n",
    "\n",
    "if not os.path.exists(model_path):\n",
    "    os.makedirs(model_path)\n",
    "\n",
    "if not os.path.exists(summary_path):\n",
    "    os.makedirs(summary_path)\n",
    "\n",
    "init = tf.global_variables_initializer()\n",
    "saver = tf.train.Saver()\n",
    "\n",
    "with tf.Session() as sess:\n",
    "    # Instantiate model parameters\n",
    "    if load_model:\n",
    "        print('Loading Model...')\n",
    "        ckpt = tf.train.get_checkpoint_state(model_path)\n",
    "        saver.restore(sess, ckpt.model_checkpoint_path)\n",
    "    else:\n",
    "        sess.run(init)\n",
    "    steps, last_reward = sess.run([ppo_model.global_step, ppo_model.last_reward])    \n",
    "    summary_writer = tf.summary.FileWriter(summary_path)\n",
    "    info = env.reset(train_mode=train_model, progress=get_progress())[brain_name]\n",
    "    trainer = Trainer(ppo_model, sess, info, is_continuous, use_observations, use_states, train_model)\n",
    "    if train_model:\n",
    "        trainer.write_text(summary_writer, 'Hyperparameters', hyperparameter_dict, steps)\n",
    "    while steps <= max_steps:\n",
    "        if env.global_done:\n",
    "            info = env.reset(train_mode=train_model, progress=get_progress())[brain_name]\n",
    "        # Decide and take an action\n",
    "        new_info = trainer.take_action(info, env, brain_name, steps, normalize)\n",
    "        info = new_info\n",
    "        trainer.process_experiences(info, time_horizon, gamma, lambd)\n",
    "        if len(trainer.training_buffer['actions']) > buffer_size and train_model:\n",
    "            # Perform gradient descent with experience buffer\n",
    "            trainer.update_model(batch_size, num_epoch)\n",
    "        if steps % summary_freq == 0 and steps != 0 and train_model:\n",
    "            # Write training statistics to tensorboard.\n",
    "            trainer.write_summary(summary_writer, steps, env._curriculum.lesson_number)\n",
    "        if steps % save_freq == 0 and steps != 0 and train_model:\n",
    "            # Save Tensorflow model\n",
    "            save_model(sess, model_path=model_path, steps=steps, saver=saver)\n",
    "        steps += 1\n",
    "        sess.run(ppo_model.increment_step)\n",
    "        if len(trainer.stats['cumulative_reward']) > 0:\n",
    "            mean_reward = np.mean(trainer.stats['cumulative_reward'])\n",
    "            sess.run(ppo_model.update_reward, feed_dict={ppo_model.new_reward: mean_reward})\n",
    "            last_reward = sess.run(ppo_model.last_reward)\n",
    "    # Final save Tensorflow model\n",
    "    if steps != 0 and train_model:\n",
    "        save_model(sess, model_path=model_path, steps=steps, saver=saver)\n",
    "env.close()\n",
    "export_graph(model_path, env_name)"
   ]
  },
  {
   "cell_type": "markdown",
   "metadata": {},
   "source": [
    "### Export the trained Tensorflow graph\n",
    "Once the model has been trained and saved, we can export it as a .bytes file which Unity can embed."
   ]
  },
  {
   "cell_type": "code",
   "execution_count": 5,
   "metadata": {},
   "outputs": [
    {
     "name": "stdout",
     "output_type": "stream",
     "text": [
      "INFO:tensorflow:Restoring parameters from ./models/fetcher13\\model-400000.cptk\n"
     ]
    },
    {
     "name": "stderr",
     "output_type": "stream",
     "text": [
      "INFO:tensorflow:Restoring parameters from ./models/fetcher13\\model-400000.cptk\n"
     ]
    },
    {
     "name": "stdout",
     "output_type": "stream",
     "text": [
      "INFO:tensorflow:Froze 8 variables.\n"
     ]
    },
    {
     "name": "stderr",
     "output_type": "stream",
     "text": [
      "INFO:tensorflow:Froze 8 variables.\n"
     ]
    },
    {
     "name": "stdout",
     "output_type": "stream",
     "text": [
      "Converted 8 variables to const ops.\n",
      "53 ops in the final graph.\n"
     ]
    }
   ],
   "source": [
    "export_graph(model_path, env_name)"
   ]
  },
  {
   "cell_type": "code",
   "execution_count": null,
   "metadata": {},
   "outputs": [],
   "source": []
  }
 ],
 "metadata": {
  "anaconda-cloud": {},
  "kernelspec": {
   "display_name": "Python 3",
   "language": "python",
   "name": "python3"
  },
  "language_info": {
   "codemirror_mode": {
    "name": "ipython",
    "version": 3
   },
   "file_extension": ".py",
   "mimetype": "text/x-python",
   "name": "python",
   "nbconvert_exporter": "python",
   "pygments_lexer": "ipython3",
   "version": "3.5.2"
  }
 },
 "nbformat": 4,
 "nbformat_minor": 1
}
